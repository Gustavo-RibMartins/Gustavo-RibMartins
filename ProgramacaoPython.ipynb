{
  "nbformat": 4,
  "nbformat_minor": 0,
  "metadata": {
    "colab": {
      "provenance": [],
      "authorship_tag": "ABX9TyPmakLTPfrKpah38goF7R6q",
      "include_colab_link": true
    },
    "kernelspec": {
      "name": "python3",
      "display_name": "Python 3"
    },
    "language_info": {
      "name": "python"
    }
  },
  "cells": [
    {
      "cell_type": "markdown",
      "metadata": {
        "id": "view-in-github",
        "colab_type": "text"
      },
      "source": [
        "<a href=\"https://colab.research.google.com/github/Gustavo-RibMartins/Gustavo-RibMartins/blob/main/ProgramacaoPython.ipynb\" target=\"_parent\"><img src=\"https://colab.research.google.com/assets/colab-badge.svg\" alt=\"Open In Colab\"/></a>"
      ]
    },
    {
      "cell_type": "markdown",
      "source": [
        "# 1.Introdução\n",
        "\n",
        "> Curso Udemy de [Programação em Python, do báscio ao avançado](https://www.udemy.com/course/curso-de-programacao-em-python-do-basico-ao-avancado)."
      ],
      "metadata": {
        "id": "S7T0Jg0B8mta"
      }
    },
    {
      "cell_type": "markdown",
      "source": [
        "# 2.Ambientes virtuais Python\n",
        "\n",
        "Ambientes isolados de desenvolvimento Python, permitindo a utilização de várias bibliotecas em um mesmo ambiente sem que haja conflito.\n",
        "\n",
        "**virtualenv**: é basicamente uma cópia de todos os diretórios necessários para que um programa Python seja executado. Desta forma, ao instalar uma nova biblioteca dentro do ambiente virtual, esta biblioteca será colocada no diretório do virtualenv e não mais de forma global no sistema operacional.\n",
        "\n",
        "![Captura de tela 2023-10-16 210036.png](data:image/png;base64,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)\n"
      ],
      "metadata": {
        "id": "aVH_P-5w4z7E"
      }
    },
    {
      "cell_type": "markdown",
      "source": [
        "Para criar um ambiente virtual Python:\n",
        "\n",
        "```bash\n",
        "mkvirtualenv <nome_projeto> -p <versao_python>\n",
        "```\n",
        "exemplo:\n",
        "```bash\n",
        "mkvirtualenv dmdeploy -p python3.7\n",
        "```\n",
        "\n",
        "**Atenção**: se você quiser informar uma versão específica do python, antes é preciso ter ela instalada na máquina.\n",
        "\n",
        "Para sair do ambiente virtual:\n",
        "\n",
        "```bash\n",
        "deactivate\n",
        "```"
      ],
      "metadata": {
        "id": "83X_OIki83VX"
      }
    },
    {
      "cell_type": "markdown",
      "source": [
        "# 3.Introdução á Linguagem\n",
        "\n",
        "[PEP8](https://peps.python.org/pep-0008/) (Python Enhancement Proposals): boas práticas para escrever códigos pythônicos.\n",
        "\n",
        "> PDF com principais regras do PEP8 = [pep8.pdf](https://drive.google.com/file/d/1FmWs6oLj0i-AZpPuvS4j9dRfScg9RC22/view?usp=sharing)"
      ],
      "metadata": {
        "id": "K7vCbgDu-F4U"
      }
    },
    {
      "cell_type": "markdown",
      "source": [
        "The Zen of Python:"
      ],
      "metadata": {
        "id": "KUDN4aMLBQ8b"
      }
    },
    {
      "cell_type": "code",
      "source": [
        "import this"
      ],
      "metadata": {
        "id": "A1ZDJkRg--n5"
      },
      "execution_count": null,
      "outputs": []
    },
    {
      "cell_type": "markdown",
      "source": [
        "Para executar um arquivo Python\n",
        "\n",
        "```python\n",
        "python <nome_arquivo.py>\n",
        "```"
      ],
      "metadata": {
        "id": "sK-10D95Bknk"
      }
    },
    {
      "cell_type": "markdown",
      "source": [
        "1) Utilize Camel Case para nomes de classes;"
      ],
      "metadata": {
        "id": "N4E2D6tFB-mE"
      }
    },
    {
      "cell_type": "code",
      "source": [
        "# correto\n",
        "class CalculadoraCientifica:\n",
        "  pass\n",
        "\n",
        "#errado\n",
        "class calculadora_cientifica:\n",
        "  pass"
      ],
      "metadata": {
        "id": "8HxVxJx-CHZ4"
      },
      "execution_count": null,
      "outputs": []
    },
    {
      "cell_type": "markdown",
      "source": [
        "2) Utilize nomes em minúsculo, separados por underline para funções ou variáveis;"
      ],
      "metadata": {
        "id": "ZV4EltNuDSdm"
      }
    },
    {
      "cell_type": "code",
      "source": [
        "#correto\n",
        "def soma():\n",
        "  pass\n",
        "\n",
        "def soma_dois():\n",
        "  pass\n",
        "\n",
        "numero = 4\n",
        "\n",
        "numero_impar = 5\n",
        "\n",
        "#errado\n",
        "def Soma():\n",
        "  pass\n",
        "\n",
        "def SomaDois():\n",
        "  pass\n",
        "\n",
        "Numero = 4\n",
        "\n",
        "NumeroImpar = 5"
      ],
      "metadata": {
        "id": "geeRJQOADY3P"
      },
      "execution_count": null,
      "outputs": []
    },
    {
      "cell_type": "markdown",
      "source": [
        "3) A indentação é obrigatória e evite usar TAB! Use Espaços;"
      ],
      "metadata": {
        "id": "hAoDN7keEH9U"
      }
    },
    {
      "cell_type": "code",
      "source": [
        "if 'a' in 'banana':\n",
        "  print('tem')"
      ],
      "metadata": {
        "id": "qFeRxffEEQ_0"
      },
      "execution_count": null,
      "outputs": []
    },
    {
      "cell_type": "markdown",
      "source": [
        "4) Linhas em branco:\n",
        "\n",
        "* 2 linhas em branco para definições de classes e funções;\n",
        "* 1 linha em branco para métodos dentro de uma classe."
      ],
      "metadata": {
        "id": "BU1STcrtFIE2"
      }
    },
    {
      "cell_type": "markdown",
      "source": [
        "5) Imports devem ser sempre feitos em linhas separadas;"
      ],
      "metadata": {
        "id": "deBboYUJFkOy"
      }
    },
    {
      "cell_type": "code",
      "source": [
        "# errado\n",
        "import sys, os\n",
        "\n",
        "# certo\n",
        "import sys\n",
        "import os"
      ],
      "metadata": {
        "id": "pm4LAzpDFrcb"
      },
      "execution_count": null,
      "outputs": []
    },
    {
      "cell_type": "markdown",
      "source": [
        "Não há problemas em utilizar (imports específicos de itens e não do pacote todo):"
      ],
      "metadata": {
        "id": "nCzaN6G5GB3-"
      }
    },
    {
      "cell_type": "code",
      "source": [
        "from types import StringType, ListType"
      ],
      "metadata": {
        "id": "nc8BEWNTGFPs"
      },
      "execution_count": null,
      "outputs": []
    },
    {
      "cell_type": "markdown",
      "source": [
        "Caso tenham muitos imports de um mesmo pacote, recomenda-se fazer:"
      ],
      "metadata": {
        "id": "0fVpcqxPGWrC"
      }
    },
    {
      "cell_type": "code",
      "source": [
        "from types import (\n",
        "    StringType,\n",
        "    ListType,\n",
        "    SetType,\n",
        "    OutroType\n",
        ")"
      ],
      "metadata": {
        "id": "6Uh5oC4rGaKv"
      },
      "execution_count": null,
      "outputs": []
    },
    {
      "cell_type": "markdown",
      "source": [
        "Imports devem ser colocados no topo do arquivo, logo depois de quaisquer comentários ou docstrings e antes de constantes ou variáveis globais."
      ],
      "metadata": {
        "id": "TCcYedldGmkC"
      }
    },
    {
      "cell_type": "markdown",
      "source": [
        "6) Espaços em expressões e instruções;"
      ],
      "metadata": {
        "id": "i_H3i4fRG6J7"
      }
    },
    {
      "cell_type": "code",
      "source": [
        "# errado\n",
        "funcao( algo[1], { outro: 2 } )\n",
        "algo (1)\n",
        "dict ['chave'] = lista [indice]\n",
        "x              = 1\n",
        "y              = 3\n",
        "variavel_longa = 5\n",
        "\n",
        "# correto\n",
        "funcao(algo[1], {outro: 2})\n",
        "algo(1)\n",
        "dict['chave'] = lista[indice]\n",
        "x = 1\n",
        "y = 3\n",
        "variavel_longa = 5"
      ],
      "metadata": {
        "id": "5a0Dw6CxHA7z"
      },
      "execution_count": null,
      "outputs": []
    },
    {
      "cell_type": "markdown",
      "source": [
        "7) Termine sempre uma instrução com uma nova linha (em branco)."
      ],
      "metadata": {
        "id": "G2ZGB7dbIAPK"
      }
    }
  ]
}